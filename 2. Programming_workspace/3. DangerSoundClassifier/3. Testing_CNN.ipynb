{
 "cells": [
  {
   "cell_type": "markdown",
   "metadata": {},
   "source": [
    "### 1. Keras ensemble\n",
    "* test data set에 대해 Keras ensemble 결과"
   ]
  },
  {
   "cell_type": "code",
   "execution_count": null,
   "metadata": {},
   "outputs": [],
   "source": [
    "import glob\n",
    "import numpy as np\n",
    "import os\n",
    "from keras.preprocessing.image import ImageDataGenerator, array_to_img, img_to_array, load_img\n",
    "\n",
    "class_num = 6\n",
    "\n",
    "test_files = glob.glob(\"5_dataset/test/*/*.jpg\")\n",
    "y_temp_test = []\n",
    "test_temp_files = []\n",
    "\n",
    "for _file in test_files:\n",
    "    test_temp_files.append(_file)\n",
    "    _label = _file.split(\"\\\\\")\n",
    "    y_temp_test.append(int(_label[1][4]))  \n",
    "    \n",
    "image_width = 331\n",
    "image_height = 221\n",
    "channels = 3\n",
    "x_test = np.ndarray(shape = (len(test_temp_files), image_width, image_height, channels), dtype = np.float32)\n",
    "y_test = np.ndarray(shape = (len(y_temp_test), class_num), dtype = np.float32)"
   ]
  },
  {
   "cell_type": "code",
   "execution_count": null,
   "metadata": {},
   "outputs": [],
   "source": [
    "def one_hot_encoding(num):\n",
    "    arr = [0, 0, 0, 0, 0, 0]\n",
    "    for i in range(class_num):\n",
    "        if (i==num):\n",
    "            arr[i] = 1\n",
    "        else:\n",
    "            arr[i] = 0\n",
    "    return arr"
   ]
  },
  {
   "cell_type": "code",
   "execution_count": null,
   "metadata": {},
   "outputs": [],
   "source": [
    "i = 0\n",
    "for _file in test_files:\n",
    "    img = load_img(_file)\n",
    "    img.thumbnail((image_width, image_height))\n",
    "    x = img_to_array(img)\n",
    "    x = x.reshape((331, 221, 3))\n",
    "    x = (x-128.0)/128.0\n",
    "    x_test[i] = x\n",
    "    y_test[i] = one_hot_encoding(y_temp_test[i])\n",
    "    i += 1\n",
    "print(\"test data converting complete\")"
   ]
  },
  {
   "cell_type": "code",
   "execution_count": null,
   "metadata": {
    "scrolled": true
   },
   "outputs": [],
   "source": [
    "import glob\n",
    "from keras.models import load_model\n",
    "from tqdm import tqdm_notebook\n",
    "fileList = glob.glob(\"6_ModelBackUp/*.h5\")\n",
    "testList = glob.glob(\"5_dataset/test/*/*.jpg\")\n",
    "\n",
    "models = list()\n",
    "for file in tqdm_notebook(fileList):\n",
    "    models.append(load_model(file))\n",
    "    \n",
    "num = 0\n",
    "real_value = 0\n",
    "real_value_cnt = 0\n",
    "real_value_cnt_include_background = 0\n",
    "for i in tqdm_notebook(range(len(testList))):\n",
    "    \n",
    "    classPredict = [0, 0, 0, 0, 0, 0]\n",
    "    answer = 5\n",
    "    maximum = 0\n",
    "    maxIndex = 0\n",
    "    \n",
    "    \n",
    "    for model in models:\n",
    "        tempPredict = model.predict_classes(x_test[i:i+1, :], verbose = 0)\n",
    "        classPredict[int(tempPredict)] += 1\n",
    "    for j in range(6):\n",
    "        if(classPredict[j] > maximum):\n",
    "            overlap = 0\n",
    "            maximum = classPredict[j]\n",
    "            maxIndex = j\n",
    "    print(num, end = \" -> \")\n",
    "    num += 1\n",
    "    print(classPredict, end = \" : \")\n",
    "    answer = maxIndex\n",
    "    print(answer)\n",
    "    if(answer == real_value):\n",
    "        real_value_cnt+=1\n",
    "        real_value_cnt_include_background += 1\n",
    "    elif(answer == 5):\n",
    "        real_value_cnt_include_background += 1\n",
    "    if(i==86 or i == 285 or i == 484 or i == 559 or i == 745 or i == 943):\n",
    "        # 전체 개수, 5포함 개수, 5불포함 개수\n",
    "        print(str(real_value) + \" 판별 개수 : \" + str(real_value_cnt) + \", 배경 포함 개수 : \" + str(real_value_cnt_include_background))\n",
    "        real_value +=1\n",
    "        real_value_cnt = 0\n",
    "        real_value_cnt_include_background = 0\n",
    "        print(\"\\n===========================================================================\")\n",
    "        print(\"\\n\")"
   ]
  },
  {
   "cell_type": "code",
   "execution_count": null,
   "metadata": {},
   "outputs": [],
   "source": [
    "print(\"test 100개당 잘못된 검출 횟수\")\n",
    "print(\"car_horn 온전한 error 비율\", end = \" : \")\n",
    "print(round(((86-64)/86)*100, 3))\n",
    "print(\"car_horn 배경 제외 error 비율\", end = \" : \")\n",
    "print(round(((86-78)/86)*100, 3))\n",
    "print(\"=============================\")\n",
    "print(\"dog_bark 온전한 error 비율\", end = \" : \")\n",
    "print(round(((285-86+1-152)/(285-86+1))*100, 3))\n",
    "print(\"dog_bark 배경 제외 error 비율\", end = \" : \")\n",
    "print(round(((285-86+1-170)/(285-86+1))*100, 3))\n",
    "print(\"=============================\")\n",
    "print(\"drilling 온전한 error 비율\", end = \" : \")\n",
    "print(round(((484 -285+1-167)/(484 -285+1))*100, 3))\n",
    "print(\"drilling 배경 제외 error 비율\", end = \" : \")\n",
    "print(round(((484 -285+1-186)/(484 -285+1))*100, 3))\n",
    "print(\"=============================\")\n",
    "print(\"gun_shot 온전한 error 비율\", end = \" : \")\n",
    "print(round(((559  -484+1-70)/(559  -484+1))*100, 3))\n",
    "print(\"gun_shot 배경 제외 error 비율\", end = \" : \")\n",
    "print(round(((559  -484+1-71)/(559  -484+1))*100, 3))\n",
    "print(\"=============================\")\n",
    "print(\"siren 온전한 error 비율\", end = \" : \")\n",
    "print(round(((745-559+1-137)/(745-559+1))*100, 3))\n",
    "print(\"siren 배경 제외 error 비율\", end = \" : \")\n",
    "print(round(((745-559+1-167)/(745-559+1))*100, 3))\n",
    "print(\"=============================\")\n",
    "print(\"배경잡음 온전한 error 비율\", end = \" : \")\n",
    "print(round(((943-745+1-156)/(943-745+1))*100, 3))\n",
    "print(\"=============================\")"
   ]
  },
  {
   "cell_type": "markdown",
   "metadata": {},
   "source": [
    "* class0 : car_horn\n",
    "* class1 : dog_bark\n",
    "* class2 : drilling\n",
    "* class3 : gun_shot\n",
    "* class4 : siren"
   ]
  },
  {
   "cell_type": "markdown",
   "metadata": {},
   "source": [
    "---"
   ]
  },
  {
   "cell_type": "markdown",
   "metadata": {},
   "source": [
    "### 2. 유튜브에서 실험 데이터 수집\n",
    "* wav 형식으로 포맷 변화 필요"
   ]
  },
  {
   "cell_type": "code",
   "execution_count": null,
   "metadata": {},
   "outputs": [],
   "source": [
    "# url 저장 배열\n",
    "Horn = [\n",
    "    \"https://www.youtube.com/watch?v=i9ADKqS5LBg\",\n",
    "    \"https://www.youtube.com/watch?v=HsxeUeKfd90\",\n",
    "    \"https://www.youtube.com/watch?v=K8Sm67RHB_s\"\n",
    "]\n",
    "\n",
    "ambulance = [\n",
    "    \"https://www.youtube.com/watch?v=xCZEr2BchbU\", #0:25~0:29\n",
    "    \"https://www.youtube.com/watch?v=haqqpOFTgII\", #noise 많음\n",
    "    \"https://www.youtube.com/watch?v=-2YWkWhIVtQ\" #noise 많음, 0:00~0:17까지\n",
    "]\n",
    "\n",
    "fireTruck = [\n",
    "    \"https://www.youtube.com/watch?v=xCZEr2BchbU\", #0:15~0:18\n",
    "    \"https://www.youtube.com/watch?v=hxVD4fA2YxM\",\n",
    "    \"https://www.youtube.com/watch?v=gXnRkrYyFNg&t=23s\"\n",
    "]\n",
    "\n",
    "fireAlarm = [\n",
    "    \"https://www.youtube.com/watch?v=GbvOrpW3yo8\",\n",
    "    \"https://www.youtube.com/watch?v=CGxd9FOCLfQ\",\n",
    "    \"https://www.youtube.com/watch?v=9v2TOr2aWX0\" # 5:52 ~ 6:09\n",
    "]\n",
    "\n",
    "# url 저장 배열의 배열\n",
    "ClassName1 = [\n",
    "    'fireTruck',\n",
    "    'ambulance',\n",
    "    'fireAlarm',\n",
    "    'Horn'\n",
    "]\n",
    "\n",
    "ClassName2 = {\n",
    "    'fireTruck':fireTruck,\n",
    "    'ambulance':ambulance,\n",
    "    'fireAlarm':fireAlarm,\n",
    "    'Horn':Horn\n",
    "}"
   ]
  },
  {
   "cell_type": "code",
   "execution_count": null,
   "metadata": {},
   "outputs": [],
   "source": [
    "def checkNumber(string):\n",
    "    if(string[0]=='1' or string[0]=='2' or string[0]=='3' or string[0]=='4' or string[0]=='5' or string[0]=='6' or string[0]=='7' or string[0]=='8' or string[0]=='9'):\n",
    "        return int(string[0:])\n",
    "    elif(string[1]=='1' or string[1]=='2' or string[1]=='3' or string[1]=='4' or string[1]=='5' or string[1]=='6' or string[1]=='7' or string[1]=='8' or string[1]=='9'):\n",
    "        return int(string[1:])\n",
    "    else:\n",
    "        return int(string[2])"
   ]
  },
  {
   "cell_type": "code",
   "execution_count": null,
   "metadata": {},
   "outputs": [],
   "source": [
    "from bs4 import BeautifulSoup as bs\n",
    "import requests\n",
    "import pafy\n",
    "import webbrowser\n",
    "import os\n",
    "import glob\n",
    "\n",
    "def geturl(val):\n",
    "    s = \"i.ytimg.com/vi/\"\n",
    "    return val[val.find(s)+len(s):val.find(s)+len(s)+11]\n",
    "\n",
    "#for i in range(len(ClassName1)):\n",
    "for i in range(1):\n",
    "    keyword = ClassName1[i]\n",
    "    directoryName = \"Tempsound/\"+keyword\n",
    "    if not(os.path.isdir(directoryName)):\n",
    "        os.makedirs(os.path.join(directoryName))\n",
    "    fileList = glob.glob(directoryName+\"/*.wav\")\n",
    "    # 10의 자리개의 파일이 되면 9보다 10을 큰수로 인식하는 함수 필요\n",
    "    curNum = checkNumber(fileList[-1][-7:-4])+1\n",
    "    print(\"========================================\")\n",
    "    print(\"Last save file number is \" + str(curNum-1))\n",
    "    for j in range(len(ClassName2[keyword])):\n",
    "        try:            \n",
    "            originUrl = ClassName2[keyword][j]\n",
    "            r = requests.get(originUrl+'\"topic\"').text\n",
    "            url = geturl(r)\n",
    "            video = pafy.new(url)\n",
    "            print(video)\n",
    "            bestaudio = video.getbestaudio()\n",
    "            print(bestaudio)\n",
    "            url = bestaudio.url\n",
    "            SaveName = keyword\n",
    "            bestaudio.download(directoryName+\"/\"+keyword+str(j+curNum)+\".wav\")\n",
    "            print(\"---------------------------\")  \n",
    "        except:\n",
    "            print(\"error\")\n",
    "            break"
   ]
  },
  {
   "cell_type": "markdown",
   "metadata": {},
   "source": [
    "---"
   ]
  },
  {
   "cell_type": "markdown",
   "metadata": {},
   "source": [
    "### 3. 실제 데이터에 대해 Ensemble 기법 적용 및 가중치 조절 실험"
   ]
  },
  {
   "cell_type": "code",
   "execution_count": null,
   "metadata": {},
   "outputs": [],
   "source": []
  },
  {
   "cell_type": "code",
   "execution_count": null,
   "metadata": {},
   "outputs": [],
   "source": []
  },
  {
   "cell_type": "code",
   "execution_count": null,
   "metadata": {},
   "outputs": [],
   "source": []
  },
  {
   "cell_type": "code",
   "execution_count": null,
   "metadata": {},
   "outputs": [],
   "source": []
  }
 ],
 "metadata": {
  "kernelspec": {
   "display_name": "Python 3",
   "language": "python",
   "name": "python3"
  },
  "language_info": {
   "codemirror_mode": {
    "name": "ipython",
    "version": 3
   },
   "file_extension": ".py",
   "mimetype": "text/x-python",
   "name": "python",
   "nbconvert_exporter": "python",
   "pygments_lexer": "ipython3",
   "version": "3.7.3"
  }
 },
 "nbformat": 4,
 "nbformat_minor": 2
}
