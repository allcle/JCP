{
 "cells": [
  {
   "cell_type": "markdown",
   "metadata": {},
   "source": [
    "### wav 파일 자르기"
   ]
  },
  {
   "cell_type": "code",
   "execution_count": null,
   "metadata": {
    "collapsed": true
   },
   "outputs": [],
   "source": [
    "import librosa\n",
    "import numpy as np\n",
    "wav = 'corr.wav'\n",
    "\n",
    "y, sr = librosa.load(wav, sr=16000)\n",
    "time = np.linspace(0, len(y)/sr, len(y)) # time axis\n",
    "\n",
    "half = len(y)/2\n",
    "y2 = y[:round(half)]\n",
    "y3 = y[round(half):]\n",
    "\n",
    "librosa.output.write_wav('corr1.wav', y2, sr)\n",
    "librosa.output.write_wav('corr2.wav', y3, sr)"
   ]
  }
 ],
 "metadata": {
  "kernelspec": {
   "display_name": "Python 3",
   "language": "python",
   "name": "python3"
  },
  "language_info": {
   "codemirror_mode": {
    "name": "ipython",
    "version": 3
   },
   "file_extension": ".py",
   "mimetype": "text/x-python",
   "name": "python",
   "nbconvert_exporter": "python",
   "pygments_lexer": "ipython3",
   "version": "3.6.1"
  }
 },
 "nbformat": 4,
 "nbformat_minor": 2
}
