{
 "cells": [
  {
   "cell_type": "markdown",
   "metadata": {},
   "source": [
    "### CNN 학습 main 코드"
   ]
  },
  {
   "cell_type": "markdown",
   "metadata": {},
   "source": [
    "### 1. jpg to numpy"
   ]
  },
  {
   "cell_type": "code",
   "execution_count": 1,
   "metadata": {},
   "outputs": [
    {
     "name": "stderr",
     "output_type": "stream",
     "text": [
      "Using TensorFlow backend.\n"
     ]
    }
   ],
   "source": [
    "import glob\n",
    "import numpy as np\n",
    "import os\n",
    "from keras.preprocessing.image import ImageDataGenerator, array_to_img, img_to_array, load_img\n",
    "\n",
    "class_num = 10\n",
    "\n",
    "train_files = glob.glob(\"4_dataset/1_train/*/*.jpg\")\n",
    "val_files = glob.glob(\"4_dataset/2_val/*/*.jpg\")\n",
    "test_files = glob.glob(\"4_dataset/3_test/*/*.jpg\")\n",
    "\n",
    "y_temp_train = []\n",
    "y_temp_validation = []\n",
    "y_temp_test = []\n",
    "\n",
    "train_temp_files = []\n",
    "val_temp_files = []\n",
    "test_temp_files = []\n",
    "\n",
    "for _file in train_files:\n",
    "    train_temp_files.append(_file)\n",
    "    _label = _file.split(\"\\\\\")\n",
    "    y_temp_train.append(int(_label[1][4]))\n",
    "\n",
    "for _file in val_files:\n",
    "    val_temp_files.append(_file)\n",
    "    _label = _file.split(\"\\\\\")\n",
    "    y_temp_validation.append(int(_label[1][4]))    \n",
    "\n",
    "for _file in test_files:\n",
    "    test_temp_files.append(_file)\n",
    "    _label = _file.split(\"\\\\\")\n",
    "    y_temp_test.append(int(_label[1][4]))  \n",
    "    \n",
    "image_width = 331\n",
    "image_height = 221\n",
    "channels = 3\n",
    "\n",
    "x_train = np.ndarray(shape = (len(train_temp_files), image_width, image_height, channels), dtype = np.float32)\n",
    "y_train = np.ndarray(shape = (len(y_temp_train), class_num), dtype = np.float32)\n",
    "x_validation = np.ndarray(shape = (len(val_temp_files), image_width, image_height, channels), dtype = np.float32)\n",
    "y_validation = np.ndarray(shape = (len(y_temp_validation), class_num), dtype = np.float32)\n",
    "x_test = np.ndarray(shape = (len(test_temp_files), image_width, image_height, channels), dtype = np.float32)\n",
    "y_test = np.ndarray(shape = (len(y_temp_test), class_num), dtype = np.float32)"
   ]
  },
  {
   "cell_type": "code",
   "execution_count": 2,
   "metadata": {},
   "outputs": [],
   "source": [
    "def one_hot_encoding(num):\n",
    "    arr = [0, 0, 0, 0, 0, 0, 0, 0, 0, 0]\n",
    "    for i in range(class_num):\n",
    "        if (i==num):\n",
    "            arr[i] = 1\n",
    "        else:\n",
    "            arr[i] = 0\n",
    "    return arr"
   ]
  },
  {
   "cell_type": "code",
   "execution_count": 3,
   "metadata": {},
   "outputs": [
    {
     "name": "stdout",
     "output_type": "stream",
     "text": [
      "Train data converting complete\n",
      "validation data converting complete\n",
      "test data converting complete\n"
     ]
    }
   ],
   "source": [
    "i = 0\n",
    "for _file in train_files:\n",
    "    img = load_img(_file)\n",
    "    img.thumbnail((image_width, image_height))\n",
    "    x = img_to_array(img)\n",
    "    x = x.reshape((331, 221, 3))\n",
    "    x = (x-128.0)/128.0\n",
    "    x_train[i] = x\n",
    "    y_train[i] = one_hot_encoding(y_temp_train[i])\n",
    "    i += 1\n",
    "print(\"Train data converting complete\")\n",
    "\n",
    "i = 0\n",
    "for _file in val_files:\n",
    "    img = load_img(_file)\n",
    "    img.thumbnail((image_width, image_height))\n",
    "    x = img_to_array(img)\n",
    "    x = x.reshape((331, 221, 3))\n",
    "    x = (x-128.0)/128.0\n",
    "    x_validation[i] = x\n",
    "    y_validation[i] = one_hot_encoding(y_temp_validation[i])\n",
    "    i += 1\n",
    "print(\"validation data converting complete\")\n",
    "\n",
    "i = 0\n",
    "for _file in test_files:\n",
    "    img = load_img(_file)\n",
    "    img.thumbnail((image_width, image_height))\n",
    "    x = img_to_array(img)\n",
    "    x = x.reshape((331, 221, 3))\n",
    "    x = (x-128.0)/128.0\n",
    "    x_test[i] = x\n",
    "    y_test[i] = one_hot_encoding(y_temp_test[i])\n",
    "    i += 1\n",
    "print(\"test data converting complete\")"
   ]
  },
  {
   "cell_type": "code",
   "execution_count": 65,
   "metadata": {},
   "outputs": [
    {
     "name": "stdout",
     "output_type": "stream",
     "text": [
      "x_train : <class 'numpy.ndarray'>\n",
      "y_train : <class 'numpy.ndarray'>\n",
      "x_validation : <class 'numpy.ndarray'>\n",
      "y_validation : <class 'numpy.ndarray'>\n",
      "x_test : <class 'numpy.ndarray'>\n",
      "y_test : <class 'numpy.ndarray'>\n"
     ]
    }
   ],
   "source": [
    "print(\"x_train : \" + str(type(x_train)))\n",
    "print(\"y_train : \" + str(type(y_train)))\n",
    "print(\"x_validation : \" + str(type(x_validation)))\n",
    "print(\"y_validation : \" + str(type(y_validation)))\n",
    "print(\"x_test : \" + str(type(x_test)))\n",
    "print(\"y_test : \" + str(type(y_test)))"
   ]
  },
  {
   "cell_type": "markdown",
   "metadata": {},
   "source": [
    "---"
   ]
  },
  {
   "cell_type": "markdown",
   "metadata": {},
   "source": [
    "### 2. CNN with keras\n",
    "* ref url\n",
    "    * https://datascienceschool.net/view-notebook/51e147088d474fe1bf32e394394eaea7/\n",
    "    * http://pythonstudy.xyz/python/article/402-numpy-%EC%82%AC%EC%9A%A9%ED%95%98%EA%B8%B0\n",
    "    * https://snowdeer.github.io/machine-learning/2018/01/10/convolution-neural-network/"
   ]
  },
  {
   "cell_type": "markdown",
   "metadata": {},
   "source": [
    "#### <사용한 model 정보>\n",
    "* model1 : SCM CM CM CM CM D(0.5) FDD, epoch = 15, batch_size = 50 - good - epoch 더 높여봐도 좋을 듯 & 오버피팅 있다\n",
    "* model2 : SCM CM CM D(0.25) CM CM FDD, epoch = 15, batch_size = 50\n",
    "* model3 : SCM CM CM D(0.5) CM D(0.5) CM FDD, epoch = 20, batch_size = 30\n",
    "* model4 : SCM CM CM D(0.5) CM FDD, epoch = 25, batch_size = 30\n",
    "* model5 : L2쓰니까 정답율이 너무 낮다! 다시 할 필요가 있다"
   ]
  },
  {
   "cell_type": "code",
   "execution_count": 4,
   "metadata": {},
   "outputs": [],
   "source": [
    "from keras import layers\n",
    "from keras import models\n",
    "from keras import optimizers\n",
    "import keras\n",
    "\n",
    "from keras.datasets import mnist\n",
    "from keras.utils import np_utils\n",
    "from keras.models import Sequential\n",
    "from keras.layers import Dense, Conv2D, MaxPooling2D, Dropout, Flatten\n",
    "from keras.callbacks import ModelCheckpoint, EarlyStopping\n",
    "from keras.regularizers import l1, l2\n",
    "\n",
    "import matplotlib.pyplot as plt\n",
    "import os\n",
    "import numpy"
   ]
  },
  {
   "cell_type": "code",
   "execution_count": 5,
   "metadata": {},
   "outputs": [],
   "source": [
    "model_num = 1"
   ]
  },
  {
   "cell_type": "code",
   "execution_count": 9,
   "metadata": {},
   "outputs": [],
   "source": [
    "model = models.Sequential()\n",
    "model.add(layers.Conv2D(32, (3, 3), activation='relu', input_shape=(331, 221, 3))) # input size : 331, 221, 3\n",
    "model.add(layers.MaxPool2D((2,2)))\n",
    "\n",
    "#model.add(layers.Conv2D(64, (3, 3), activity_regularizer = l2(0.001), activation='relu'))\n",
    "model.add(layers.Conv2D(64, (3, 3), activation='relu'))\n",
    "model.add(layers.MaxPool2D((2,2)))\n",
    "\n",
    "model.add(layers.Conv2D(128, (3, 3), activation='relu'))\n",
    "model.add(layers.MaxPool2D((2,2)))\n",
    "\n",
    "model.add(Dropout(0.5))\n",
    "\n",
    "model.add(layers.Conv2D(128, (3, 3), activation='relu'))\n",
    "model.add(layers.MaxPool2D((2,2)))\n",
    "\n",
    "# model.add(Dropout(0.5))\n",
    "\n",
    "model.add(layers.Conv2D(128, (3, 3), activation='relu'))\n",
    "model.add(layers.MaxPool2D((2,2)))\n",
    "\n",
    "model.add(layers.Flatten())\n",
    "model.add(layers.Dense(512, activation='relu'))\n",
    "model.add(layers.Dense(class_num, activation='sigmoid'))"
   ]
  },
  {
   "cell_type": "code",
   "execution_count": 10,
   "metadata": {},
   "outputs": [
    {
     "name": "stdout",
     "output_type": "stream",
     "text": [
      "_________________________________________________________________\n",
      "Layer (type)                 Output Shape              Param #   \n",
      "=================================================================\n",
      "conv2d_6 (Conv2D)            (None, 329, 219, 32)      896       \n",
      "_________________________________________________________________\n",
      "max_pooling2d_6 (MaxPooling2 (None, 164, 109, 32)      0         \n",
      "_________________________________________________________________\n",
      "conv2d_7 (Conv2D)            (None, 162, 107, 64)      18496     \n",
      "_________________________________________________________________\n",
      "max_pooling2d_7 (MaxPooling2 (None, 81, 53, 64)        0         \n",
      "_________________________________________________________________\n",
      "conv2d_8 (Conv2D)            (None, 79, 51, 128)       73856     \n",
      "_________________________________________________________________\n",
      "max_pooling2d_8 (MaxPooling2 (None, 39, 25, 128)       0         \n",
      "_________________________________________________________________\n",
      "dropout_3 (Dropout)          (None, 39, 25, 128)       0         \n",
      "_________________________________________________________________\n",
      "conv2d_9 (Conv2D)            (None, 37, 23, 128)       147584    \n",
      "_________________________________________________________________\n",
      "max_pooling2d_9 (MaxPooling2 (None, 18, 11, 128)       0         \n",
      "_________________________________________________________________\n",
      "conv2d_10 (Conv2D)           (None, 16, 9, 128)        147584    \n",
      "_________________________________________________________________\n",
      "max_pooling2d_10 (MaxPooling (None, 8, 4, 128)         0         \n",
      "_________________________________________________________________\n",
      "flatten_2 (Flatten)          (None, 4096)              0         \n",
      "_________________________________________________________________\n",
      "dense_3 (Dense)              (None, 512)               2097664   \n",
      "_________________________________________________________________\n",
      "dense_4 (Dense)              (None, 10)                5130      \n",
      "=================================================================\n",
      "Total params: 2,491,210\n",
      "Trainable params: 2,491,210\n",
      "Non-trainable params: 0\n",
      "_________________________________________________________________\n"
     ]
    }
   ],
   "source": [
    "model.summary()"
   ]
  },
  {
   "cell_type": "code",
   "execution_count": 11,
   "metadata": {},
   "outputs": [],
   "source": [
    "model.compile(loss = 'binary_crossentropy',\n",
    "             optimizer = optimizers.RMSprop(lr = 1e-4),\n",
    "             metrics = ['acc'])"
   ]
  },
  {
   "cell_type": "code",
   "execution_count": 12,
   "metadata": {
    "scrolled": true
   },
   "outputs": [
    {
     "name": "stdout",
     "output_type": "stream",
     "text": [
      "Train on 4638 samples, validate on 1540 samples\n",
      "Epoch 1/15\n",
      "4638/4638 [==============================] - 177s 38ms/step - loss: 0.2896 - acc: 0.8967 - val_loss: 0.3298 - val_acc: 0.8947\n",
      "Epoch 2/15\n",
      "4638/4638 [==============================] - 177s 38ms/step - loss: 0.2433 - acc: 0.9071 - val_loss: 0.2869 - val_acc: 0.8967\n",
      "Epoch 3/15\n",
      "4638/4638 [==============================] - 178s 38ms/step - loss: 0.2172 - acc: 0.9164 - val_loss: 0.2480 - val_acc: 0.9065\n",
      "Epoch 4/15\n",
      "4638/4638 [==============================] - 178s 38ms/step - loss: 0.1893 - acc: 0.9266 - val_loss: 0.2758 - val_acc: 0.8908\n",
      "Epoch 5/15\n",
      "4638/4638 [==============================] - 179s 39ms/step - loss: 0.1686 - acc: 0.9356 - val_loss: 0.2360 - val_acc: 0.9090\n",
      "Epoch 6/15\n",
      "4638/4638 [==============================] - 178s 38ms/step - loss: 0.1507 - acc: 0.9420 - val_loss: 0.2151 - val_acc: 0.9203\n",
      "Epoch 7/15\n",
      "4638/4638 [==============================] - 178s 38ms/step - loss: 0.1367 - acc: 0.9498 - val_loss: 0.2148 - val_acc: 0.9212\n",
      "Epoch 8/15\n",
      "4638/4638 [==============================] - 178s 38ms/step - loss: 0.1245 - acc: 0.9538 - val_loss: 0.2234 - val_acc: 0.9188\n",
      "Epoch 9/15\n",
      "4638/4638 [==============================] - 178s 38ms/step - loss: 0.1151 - acc: 0.9567 - val_loss: 0.2412 - val_acc: 0.9094\n",
      "Epoch 10/15\n",
      "4638/4638 [==============================] - 178s 38ms/step - loss: 0.1044 - acc: 0.9612 - val_loss: 0.2225 - val_acc: 0.9180\n",
      "Epoch 11/15\n",
      "4638/4638 [==============================] - 179s 39ms/step - loss: 0.0964 - acc: 0.9634 - val_loss: 0.2365 - val_acc: 0.9143\n",
      "Epoch 12/15\n",
      "4638/4638 [==============================] - 178s 38ms/step - loss: 0.0869 - acc: 0.9673 - val_loss: 0.2441 - val_acc: 0.9212\n",
      "Epoch 13/15\n",
      "4638/4638 [==============================] - 178s 38ms/step - loss: 0.0796 - acc: 0.9710 - val_loss: 0.2379 - val_acc: 0.9201\n",
      "Epoch 14/15\n",
      "4638/4638 [==============================] - 178s 38ms/step - loss: 0.0707 - acc: 0.9734 - val_loss: 0.2619 - val_acc: 0.9167\n",
      "Epoch 15/15\n",
      "4638/4638 [==============================] - 178s 38ms/step - loss: 0.0649 - acc: 0.9757 - val_loss: 0.2690 - val_acc: 0.9192\n"
     ]
    }
   ],
   "source": [
    "history = model.fit(x_train, y_train,\n",
    "                    epochs=15, batch_size=50, \n",
    "                    validation_data=(x_validation, y_validation),\n",
    "                    verbose=1)"
   ]
  },
  {
   "cell_type": "code",
   "execution_count": 13,
   "metadata": {},
   "outputs": [],
   "source": [
    "model.save('5classSoundModel'+str(model_num)+'.h5')"
   ]
  },
  {
   "cell_type": "code",
   "execution_count": 14,
   "metadata": {},
   "outputs": [
    {
     "data": {
      "image/png": "[encoded data removed]",
      "text/plain": [
       "<Figure size 432x288 with 1 Axes>"
      ]
     },
     "metadata": {
      "needs_background": "light"
     },
     "output_type": "display_data"
    },
    {
     "data": {
      "image/png": "[encoded data removed]",
      "text/plain": [
       "<Figure size 432x288 with 1 Axes>"
      ]
     },
     "metadata": {
      "needs_background": "light"
     },
     "output_type": "display_data"
    }
   ],
   "source": [
    "import matplotlib.pyplot as plt\n",
    "\n",
    "acc = history.history['acc']\n",
    "val_acc = history.history['val_acc']\n",
    "loss = history.history['loss']\n",
    "val_loss = history.history['val_loss']\n",
    "\n",
    "epochs = range(1, len(acc) + 1)\n",
    "\n",
    "plt.plot(epochs, acc, 'bo', label = 'Training acc')\n",
    "plt.plot(epochs, val_acc, 'b', label = 'Validation acc')\n",
    "plt.title('Training and validation loss')\n",
    "plt.legend()\n",
    "plt.savefig(\"5classSoundModelGraph\"+str(model_num)+\"-1.png\")\n",
    "\n",
    "plt.figure()\n",
    "\n",
    "plt.plot(epochs, loss, 'bo', label = 'Training loss')\n",
    "plt.plot(epochs, val_loss, 'b', label = 'Validation loss')\n",
    "plt.title('Training and Validation loss')\n",
    "plt.legend()\n",
    "plt.savefig(\"5classSoundModelGraph\"+str(model_num)+\"-2.png\")\n",
    "\n",
    "plt.show()"
   ]
  },
  {
   "cell_type": "markdown",
   "metadata": {},
   "source": [
    "---"
   ]
  },
  {
   "cell_type": "markdown",
   "metadata": {},
   "source": [
    "### 3. 실제 test set에 대해 잘못된 판별 갯수 파악"
   ]
  },
  {
   "cell_type": "code",
   "execution_count": 15,
   "metadata": {},
   "outputs": [
    {
     "name": "stdout",
     "output_type": "stream",
     "text": [
      "Length : 1542\n"
     ]
    },
    {
     "data": {
      "application/vnd.jupyter.widget-view+json": {
       "model_id": "b18785da4e034a68a4a5d0c99b17d0cc",
       "version_major": 2,
       "version_minor": 0
      },
      "text/plain": [
       "HBox(children=(IntProgress(value=0, max=1542), HTML(value='')))"
      ]
     },
     "metadata": {},
     "output_type": "display_data"
    },
    {
     "name": "stdout",
     "output_type": "stream",
     "text": [
      "\n",
      "total : [86, 136, 161, 31, 179, 199, 195, 193, 163, 199]\n",
      "result : [17, 50, 77, 5, 47, 114, 92, 84, 86, 32]\n",
      "error% : 19.767, 36.765, 47.826, 16.129, 26.257, 57.286, 47.179, 43.523, 52.761, 16.08, "
     ]
    }
   ],
   "source": [
    "import glob\n",
    "from tqdm import tqdm_notebook\n",
    "testList = glob.glob(\"4_dataset/3_test/*/*.jpg\")\n",
    "total = [0, 0, 0, 0, 0, 0, 0, 0, 0, 0]\n",
    "result = [0, 0, 0, 0, 0, 0, 0, 0, 0, 0]\n",
    "print(\"Length : \" + str(len(testList)))\n",
    "for i in tqdm_notebook(range(len(testList))):\n",
    "    predictNum = model.predict_classes(x_test[i:i+1, :], verbose = 0)\n",
    "    _ArrRealNum = testList[i].split(\"\\\\\")\n",
    "    realNum = int(_ArrRealNum[1].split(\"fold\")[-1])\n",
    "    total[realNum] = total[realNum] + 1\n",
    "    if(predictNum != realNum):\n",
    "        result[realNum] = result[realNum] + 1\n",
    "print(\"total : \" , end = \"\")\n",
    "print(total)\n",
    "print(\"result : \" , end = \"\")\n",
    "print(result)\n",
    "print(\"error% : \", end = \"\")\n",
    "for i in range(10):\n",
    "    temp = result[i] / total[i]\n",
    "    temp = temp * 100\n",
    "    print(round(temp, 3), end = \", \")"
   ]
  },
  {
   "cell_type": "code",
   "execution_count": 16,
   "metadata": {},
   "outputs": [
    {
     "name": "stdout",
     "output_type": "stream",
     "text": [
      "0 to 86\n",
      "87 to 222\n",
      "223 to 383\n",
      "384 to 414\n",
      "415 to 593\n",
      "594 to 792\n",
      "793 to 987\n",
      "988 to 1180\n",
      "1181 to 1343\n",
      "1344 to 1542\n"
     ]
    }
   ],
   "source": [
    "num = [0, 0, 0, 0, 0, 0, 0, 0, 0, 0]\n",
    "for i in y_test:\n",
    "    for j in range(10):\n",
    "        if(int(i[j]) == 1):\n",
    "            num[j] += 1\n",
    "for i in range(1, 10):\n",
    "    num[i] = num[i] + num[i-1]\n",
    "print(\"0 to \" + str(num[0]))\n",
    "print(str(num[0]+1) + \" to \" + str(num[1]))\n",
    "print(str(num[1]+1) + \" to \" + str(num[2]))\n",
    "print(str(num[2]+1) + \" to \" + str(num[3]))\n",
    "print(str(num[3]+1) + \" to \" + str(num[4]))\n",
    "print(str(num[4]+1) + \" to \" + str(num[5]))\n",
    "print(str(num[5]+1) + \" to \" + str(num[6]))\n",
    "print(str(num[6]+1) + \" to \" + str(num[7]))\n",
    "print(str(num[7]+1) + \" to \" + str(num[8]))\n",
    "print(str(num[8]+1) + \" to \" + str(num[9]))"
   ]
  },
  {
   "cell_type": "code",
   "execution_count": 17,
   "metadata": {},
   "outputs": [
    {
     "name": "stdout",
     "output_type": "stream",
     "text": [
      "0 : [0] , 1 : [0] , 2 : [0] , 3 : [0] , 4 : [0] , 5 : [0] , 6 : [0] , 7 : [0] , 8 : [0] , 9 : [6] , 10 : [0] , 11 : [0] , 12 : [0] , 13 : [0] , 14 : [0] , 15 : [0] , 16 : [6] , 17 : [6] , 18 : [0] , 19 : [0] , 20 : [0] , 21 : [0] , 22 : [9] , 23 : [6] , 24 : [0] , 25 : [0] , 26 : [0] , 27 : [0] , 28 : [9] , 29 : [9] , 30 : [0] , 31 : [9] , \n",
      "===========================================================================\n",
      "\n",
      "\n",
      "32 : [0] , 33 : [9] , 34 : [9] , 35 : [0] , 36 : [9] , 37 : [0] , 38 : [0] , 39 : [0] , 40 : [0] , 41 : [0] , 42 : [0] , 43 : [0] , 44 : [0] , 45 : [0] , 46 : [0] , 47 : [0] , 48 : [0] , 49 : [0] , 50 : [0] , 51 : [0] , 52 : [0] , 53 : [0] , 54 : [0] , 55 : [0] , 56 : [0] , 57 : [0] , 58 : [0] , 59 : [0] , 60 : [0] , 61 : [1] , 62 : [9] , \n",
      "===========================================================================\n",
      "\n",
      "\n",
      "63 : [0] , 64 : [0] , 65 : [0] , 66 : [0] , 67 : [0] , 68 : [0] , 69 : [0] , 70 : [0] , 71 : [0] , 72 : [0] , 73 : [0] , 74 : [7] , 75 : [0] , 76 : [0] , 77 : [0] , 78 : [0] , 79 : [0] , 80 : [9] , 81 : [0] , 82 : [2] , 83 : [0] , 84 : [2] , 85 : [0] , 86 : [5] , 87 : [5] , 88 : [1] , 89 : [5] , 90 : [1] , 91 : [1] , 92 : [1] , 93 : [1] , \n",
      "===========================================================================\n",
      "\n",
      "\n",
      "94 : [1] , 95 : [1] , 96 : [6] , 97 : [1] , 98 : [6] , 99 : [1] , 100 : [1] , 101 : [1] , 102 : [4] , 103 : [2] , 104 : [2] , 105 : [1] , 106 : [2] , 107 : [9] , 108 : [0] , 109 : [0] , 110 : [0] , 111 : [1] , 112 : [0] , 113 : [1] , 114 : [1] , 115 : [1] , 116 : [1] , 117 : [1] , 118 : [1] , 119 : [1] , 120 : [1] , 121 : [1] , 122 : [1] , 123 : [1] , 124 : [1] , \n",
      "===========================================================================\n",
      "\n",
      "\n",
      "125 : [1] , 126 : [9] , 127 : [9] , 128 : [9] , 129 : [1] , 130 : [1] , 131 : [1] , 132 : [1] , 133 : [1] , 134 : [1] , 135 : [1] , 136 : [1] , 137 : [1] , 138 : [2] , 139 : [6] , 140 : [9] , 141 : [9] , 142 : [1] , 143 : [1] , 144 : [1] , 145 : [1] , 146 : [1] , 147 : [1] , 148 : [1] , 149 : [6] , 150 : [1] , 151 : [6] , 152 : [9] , 153 : [2] , 154 : [9] , 155 : [1] , \n",
      "===========================================================================\n",
      "\n",
      "\n",
      "156 : [9] , 157 : [1] , 158 : [1] , 159 : [1] , 160 : [1] , 161 : [1] , 162 : [6] , 163 : [4] , 164 : [6] , 165 : [6] , 166 : [1] , 167 : [6] , 168 : [6] , 169 : [1] , 170 : [1] , 171 : [1] , 172 : [1] , 173 : [1] , 174 : [1] , 175 : [1] , 176 : [9] , 177 : [1] , 178 : [9] , 179 : [9] , 180 : [9] , 181 : [1] , 182 : [1] , 183 : [9] , 184 : [5] , 185 : [4] , 186 : [4] , \n",
      "===========================================================================\n",
      "\n",
      "\n",
      "187 : [1] , 188 : [1] , 189 : [1] , 190 : [1] , 191 : [1] , 192 : [1] , 193 : [1] , 194 : [1] , 195 : [1] , 196 : [1] , 197 : [9] , 198 : [9] , 199 : [9] , 200 : [1] , 201 : [1] , 202 : [1] , 203 : [1] , 204 : [1] , 205 : [1] , 206 : [1] , 207 : [1] , 208 : [1] , 209 : [1] , 210 : [1] , 211 : [4] , 212 : [1] , 213 : [1] , 214 : [1] , 215 : [1] , 216 : [1] , 217 : [6] , \n",
      "===========================================================================\n",
      "\n",
      "\n",
      "218 : [6] , 219 : [6] , 220 : [6] , 221 : [4] , 222 : [8] , 223 : [8] , 224 : [8] , 225 : [8] , 226 : [8] , 227 : [2] , 228 : [3] , 229 : [8] , 230 : [0] , 231 : [0] , 232 : [0] , 233 : [0] , 234 : [0] , 235 : [0] , 236 : [0] , 237 : [0] , 238 : [0] , 239 : [2] , 240 : [3] , 241 : [0] , 242 : [9] , 243 : [9] , 244 : [9] , 245 : [9] , 246 : [2] , 247 : [8] , 248 : [2] , \n",
      "===========================================================================\n",
      "\n",
      "\n",
      "249 : [2] , 250 : [8] , 251 : [9] , 252 : [9] , 253 : [2] , 254 : [2] , 255 : [8] , 256 : [2] , 257 : [2] , 258 : [8] , 259 : [2] , 260 : [9] , 261 : [9] , 262 : [6] , 263 : [8] , 264 : [2] , 265 : [2] , 266 : [2] , 267 : [2] , 268 : [2] , 269 : [2] , 270 : [6] , 271 : [6] , 272 : [4] , 273 : [9] , 274 : [4] , 275 : [4] , 276 : [4] , 277 : [6] , 278 : [6] , 279 : [6] , \n",
      "===========================================================================\n",
      "\n",
      "\n",
      "280 : [4] , 281 : [4] , 282 : [9] , 283 : [4] , 284 : [9] , 285 : [7] , 286 : [9] , 287 : [1] , 288 : [9] , 289 : [6] , 290 : [5] , 291 : [2] , 292 : [5] , 293 : [8] , 294 : [8] , 295 : [9] , 296 : [8] , 297 : [5] , 298 : [2] , 299 : [2] , 300 : [2] , 301 : [2] , 302 : [2] , 303 : [5] , 304 : [2] , 305 : [2] , 306 : [9] , 307 : [5] , 308 : [5] , 309 : [5] , 310 : [5] , \n",
      "===========================================================================\n",
      "\n",
      "\n"
     ]
    },
    {
     "name": "stdout",
     "output_type": "stream",
     "text": [
      "311 : [5] , 312 : [5] , 313 : [8] , 314 : [2] , 315 : [2] , 316 : [9] , 317 : [2] , 318 : [6] , 319 : [2] , 320 : [1] , 321 : [8] , 322 : [2] , 323 : [2] , 324 : [2] , 325 : [2] , 326 : [2] , 327 : [2] , 328 : [2] , 329 : [2] , 330 : [2] , 331 : [2] , 332 : [2] , 333 : [2] , 334 : [2] , 335 : [2] , 336 : [2] , 337 : [2] , 338 : [2] , 339 : [2] , 340 : [2] , 341 : [2] , 342 : [2] , 343 : [2] , 344 : [2] , 345 : [2] , 346 : [2] , 347 : [2] , 348 : [2] , 349 : [2] , 350 : [5] , 351 : [2] , 352 : [2] , 353 : [2] , 354 : [2] , 355 : [2] , 356 : [2] , 357 : [2] , 358 : [2] , 359 : [2] , 360 : [2] , 361 : [2] , 362 : [2] , 363 : [2] , 364 : [2] , 365 : [6] , 366 : [2] , 367 : [2] , 368 : [2] , 369 : [2] , 370 : [2] , 371 : [2] , 372 : [5] , 373 : [2] , 374 : [2] , 375 : [2] , 376 : [2] , 377 : [2] , 378 : [2] , 379 : [9] , 380 : [5] , 381 : [2] , 382 : [2] , 383 : [3] , 384 : [3] , 385 : [6] , 386 : [3] , 387 : [3] , 388 : [3] , 389 : [3] , 390 : [3] , 391 : [3] , 392 : [3] , 393 : [3] , 394 : [3] , 395 : [3] , 396 : [3] , 397 : [0] , 398 : [4] , 399 : [9] , 400 : [1] , 401 : [3] , 402 : [3] , 403 : [3] , 404 : [3] , 405 : [3] , 406 : [3] , 407 : [3] , 408 : [3] , 409 : [3] , 410 : [3] , 411 : [3] , 412 : [3] , 413 : [3] , 414 : [4] , 415 : [4] , 416 : [4] , 417 : [4] , 418 : [9] , 419 : [4] , 420 : [4] , 421 : [4] , 422 : [4] , 423 : [4] , 424 : [4] , 425 : [4] , 426 : [4] , 427 : [4] , 428 : [4] , 429 : [4] , 430 : [4] , 431 : [4] , 432 : [4] , 433 : [4] , 434 : [4] , 435 : [4] , 436 : [4] , 437 : [4] , 438 : [4] , 439 : [4] , 440 : [4] , 441 : [4] , 442 : [4] , 443 : [4] , 444 : [4] , 445 : [9] , 446 : [4] , 447 : [4] , 448 : [4] , 449 : [4] , 450 : [4] , 451 : [4] , 452 : [4] , 453 : [4] , 454 : [4] , 455 : [4] , 456 : [4] , 457 : [9] , 458 : [4] , 459 : [4] , 460 : [4] , 461 : [4] , 462 : [4] , 463 : [4] , 464 : [4] , 465 : [4] , 466 : [4] , 467 : [4] , 468 : [4] , 469 : [4] , 470 : [4] , 471 : [4] , 472 : [4] , 473 : [4] , 474 : [4] , 475 : [4] , 476 : [4] , 477 : [4] , 478 : [4] , 479 : [4] , 480 : [4] , 481 : [4] , 482 : [4] , 483 : [4] , 484 : [4] , 485 : [4] , 486 : [4] , 487 : [4] , 488 : [4] , 489 : [4] , 490 : [4] , 491 : [4] , 492 : [4] , 493 : [4] , 494 : [4] , 495 : [4] , 496 : [4] , 497 : [4] , 498 : [4] , 499 : [4] , 500 : [4] , 501 : [4] , 502 : [4] , 503 : [0] , 504 : [0] , 505 : [4] , 506 : [4] , 507 : [9] , 508 : [4] , 509 : [4] , 510 : [4] , 511 : [4] , 512 : [4] , 513 : [4] , 514 : [4] , 515 : [6] , 516 : [9] , 517 : [4] , 518 : [9] , 519 : [4] , 520 : [4] , 521 : [4] , 522 : [4] , 523 : [6] , 524 : [4] , 525 : [0] , 526 : [6] , 527 : [9] , 528 : [9] , 529 : [9] , 530 : [9] , 531 : [9] , 532 : [6] , 533 : [6] , 534 : [6] , 535 : [6] , 536 : [6] , 537 : [6] , 538 : [6] , 539 : [6] , 540 : [4] , 541 : [6] , 542 : [6] , 543 : [6] , 544 : [9] , 545 : [9] , 546 : [6] , 547 : [9] , 548 : [9] , 549 : [6] , 550 : [6] , 551 : [9] , 552 : [6] , 553 : [6] , 554 : [9] , 555 : [9] , 556 : [4] , 557 : [4] , 558 : [9] , 559 : [9] , 560 : [4] , 561 : [4] , 562 : [9] , 563 : [4] , 564 : [4] , 565 : [4] , 566 : [4] , 567 : [4] , 568 : [4] , 569 : [4] , 570 : [4] , 571 : [4] , 572 : [4] , 573 : [4] , 574 : [4] , 575 : [4] , 576 : [4] , 577 : [4] , 578 : [7] , 579 : [4] , 580 : [4] , 581 : [4] , 582 : [4] , 583 : [4] , 584 : [4] , 585 : [4] , 586 : [4] , 587 : [4] , 588 : [9] , 589 : [0] , 590 : [0] , 591 : [4] , 592 : [4] , 593 : [2] , 594 : [2] , 595 : [7] , 596 : [2] , 597 : [2] , 598 : [2] , 599 : [2] , 600 : [2] , 601 : [9] , 602 : [9] , 603 : [9] , 604 : [9] , 605 : [6] , 606 : [6] , 607 : [8] , 608 : [5] , 609 : [5] , 610 : [5] , 611 : [9] , 612 : [9] , 613 : [9] , 614 : [9] , 615 : [5] , 616 : [5] , 617 : [6] , 618 : [5] , 619 : [5] , 620 : [5] , 621 : [5] , 622 : [5] , 623 : [5] , 624 : [5] , 625 : [7] , 626 : [7] , 627 : [6] , 628 : [6] , 629 : [7] , 630 : [7] , 631 : [7] , 632 : [7] , 633 : [7] , 634 : [7] , 635 : [7] , 636 : [7] , 637 : [7] , 638 : [7] , 639 : [6] , 640 : [7] , 641 : [7] , 642 : [7] , 643 : [8] , 644 : [2] , 645 : [7] , 646 : [7] , 647 : [7] , 648 : [7] , 649 : [7] , 650 : [6] , 651 : [6] , 652 : [9] , 653 : [9] , 654 : [9] , 655 : [9] , 656 : [9] , 657 : [9] , 658 : [9] , 659 : [9] , 660 : [9] , 661 : [0] , 662 : [6] , 663 : [9] , 664 : [9] , 665 : [9] , 666 : [9] , 667 : [9] , 668 : [2] , 669 : [9] , 670 : [9] , 671 : [9] , 672 : [0] , 673 : [9] , 674 : [9] , 675 : [9] , 676 : [9] , 677 : [9] , 678 : [9] , 679 : [9] , 680 : [9] , 681 : [5] , 682 : [5] , 683 : [5] , 684 : [0] , 685 : [5] , 686 : [9] , 687 : [6] , 688 : [4] , 689 : [4] , 690 : [9] , 691 : [9] , 692 : [6] , 693 : [5] , 694 : [6] , 695 : [0] , 696 : [5] , 697 : [5] , 698 : [5] , 699 : [6] , 700 : [6] , 701 : [5] , 702 : [6] , 703 : [6] , 704 : [4] , 705 : [5] , 706 : [5] , 707 : [7] , 708 : [6] , 709 : [6] , 710 : [6] , 711 : [5] , 712 : [4] , 713 : [5] , 714 : [5] , 715 : [5] , 716 : [5] , 717 : [5] , 718 : [5] , 719 : [5] , 720 : [5] , 721 : [5] , 722 : [5] , 723 : [5] , 724 : [5] , 725 : [5] , 726 : [5] , 727 : [5] , 728 : [5] , 729 : [5] , 730 : [5] , 731 : [5] , 732 : [5] , 733 : [5] , 734 : [5] , 735 : [5] , 736 : [5] , 737 : [5] , 738 : [5] , 739 : [5] , 740 : [5] , 741 : [9] , 742 : [5] , 743 : [5] , 744 : [5] , 745 : [5] , 746 : [9] , 747 : [5] , 748 : [5] , 749 : [5] , 750 : [5] , 751 : [5] , 752 : [5] , 753 : [5] , 754 : [5] , 755 : [5] , 756 : [5] , 757 : [5] , 758 : [5] , 759 : [9] , 760 : [5] , 761 : [5] , 762 : [5] , 763 : [5] , 764 : [5] , 765 : [5] , 766 : [5] , 767 : [4] , 768 : [5] , 769 : [5] , 770 : [5] , 771 : [5] , 772 : [5] , 773 : [5] , 774 : [5] , 775 : [5] , 776 : [5] , 777 : [8] , 778 : [6] , 779 : [8] , 780 : [8] , 781 : [8] , 782 : [8] , 783 : [5] , 784 : [6] , 785 : [8] , 786 : [8] , 787 : [8] , 788 : [8] , 789 : [8] , 790 : [8] , 791 : [8] , 792 : [6] , 793 : [6] , 794 : [6] , 795 : [6] , 796 : [6] , 797 : [4] , 798 : [9] , 799 : [6] , 800 : [9] , 801 : [6] , 802 : [0] , 803 : [9] , 804 : [9] , 805 : [0] , 806 : [6] , 807 : [6] , 808 : [6] , 809 : [6] , 810 : [6] , 811 : [6] , 812 : [6] , 813 : [6] , 814 : [6] , 815 : [6] , 816 : [6] , 817 : [6] , 818 : [4] , 819 : [6] , 820 : [6] , 821 : [6] , 822 : [6] , 823 : [6] , 824 : [6] , 825 : [6] , 826 : [6] , 827 : [6] , 828 : [6] , 829 : [6] , 830 : [6] , 831 : [6] , 832 : [6] , 833 : [9] , 834 : [9] , 835 : [1] , 836 : [9] , 837 : [9] , 838 : [1] , 839 : [1] , 840 : [1] , 841 : [9] , 842 : [1] , 843 : [9] , 844 : [6] , 845 : [6] , 846 : [9] , 847 : [6] , 848 : [4] , 849 : [6] , 850 : [9] , 851 : [9] , 852 : [4] , 853 : [9] , 854 : [9] , 855 : [6] , 856 : [9] , 857 : [4] , 858 : [6] , 859 : [1] , 860 : [9] , 861 : [9] , 862 : [1] , 863 : [1] , 864 : [1] , 865 : [6] , 866 : [9] , 867 : [1] , 868 : [7] , 869 : [7] , 870 : [7] , 871 : [6] , 872 : [6] , 873 : [6] , 874 : [6] , 875 : [6] , 876 : [6] , 877 : [6] , 878 : [6] , 879 : [6] , 880 : [6] , 881 : [6] , 882 : [6] , 883 : [6] , 884 : [6] , 885 : [6] , 886 : [1] , 887 : [0] , 888 : [6] , 889 : [1] , 890 : [1] , 891 : [4] , 892 : [6] , 893 : [6] , 894 : [9] , 895 : [6] , 896 : [9] , 897 : [4] , 898 : [6] , 899 : [6] , 900 : [1] , 901 : [9] , 902 : [9] , 903 : [4] , 904 : [9] , 905 : [9] , 906 : [9] , 907 : [9] , 908 : [9] , 909 : [6] , 910 : [6] , 911 : [9] , 912 : [7] , 913 : [9] , 914 : [6] , 915 : [6] , 916 : [6] , 917 : [6] , 918 : [6] , 919 : [6] , 920 : [6] , 921 : [9] , 922 : [9] , 923 : [6] , 924 : [9] , 925 : [9] , 926 : [6] , 927 : [6] , 928 : [6] , 929 : [9] , 930 : [6] , 931 : [6] , 932 : [6] , 933 : [1] , 934 : [6] , 935 : [6] , 936 : [6] , 937 : [6] , 938 : [6] , 939 : [9] , 940 : [9] , 941 : [6] , 942 : [9] , 943 : [9] , 944 : [9] , 945 : [4] , 946 : [4] , 947 : [4] , 948 : [8] , 949 : [8] , 950 : [4] , 951 : [4] , 952 : [9] , 953 : [4] , 954 : [8] , 955 : [6] , 956 : [7] , 957 : [1] , 958 : [1] , 959 : [6] , 960 : [8] , 961 : [7] , 962 : [7] , 963 : [6] , 964 : [6] , 965 : [6] , 966 : [6] , 967 : [6] , 968 : [6] , 969 : [6] , 970 : [9] , 971 : [6] , 972 : [9] , 973 : [6] , 974 : [6] , 975 : [9] , 976 : [6] , 977 : [6] , 978 : [5] , 979 : [0] , 980 : [6] , 981 : [6] , 982 : [6] , 983 : [6] , 984 : [6] , 985 : [6] , 986 : [9] , 987 : [7] , 988 : [7] , 989 : [7] , 990 : [7] , 991 : [7] , 992 : [7] , 993 : [7]"
     ]
    },
    {
     "name": "stdout",
     "output_type": "stream",
     "text": [
      " , 994 : [7] , 995 : [7] , 996 : [7] , 997 : [7] , 998 : [7] , 999 : [7] , 1000 : [7] , 1001 : [7] , 1002 : [7] , 1003 : [7] , 1004 : [7] , 1005 : [7] , 1006 : [7] , 1007 : [7] , 1008 : [7] , 1009 : [7] , 1010 : [8] , 1011 : [8] , 1012 : [8] , 1013 : [9] , 1014 : [7] , 1015 : [7] , 1016 : [7] , 1017 : [7] , 1018 : [7] , 1019 : [9] , 1020 : [9] , 1021 : [9] , 1022 : [7] , 1023 : [9] , 1024 : [7] , 1025 : [7] , 1026 : [9] , 1027 : [9] , 1028 : [7] , 1029 : [7] , 1030 : [7] , 1031 : [6] , 1032 : [7] , 1033 : [7] , 1034 : [8] , 1035 : [8] , 1036 : [8] , 1037 : [8] , 1038 : [8] , 1039 : [7] , 1040 : [8] , 1041 : [8] , 1042 : [8] , 1043 : [8] , 1044 : [8] , 1045 : [8] , 1046 : [8] , 1047 : [8] , 1048 : [8] , 1049 : [8] , 1050 : [7] , 1051 : [8] , 1052 : [8] , 1053 : [8] , 1054 : [8] , 1055 : [8] , 1056 : [8] , 1057 : [8] , 1058 : [8] , 1059 : [8] , 1060 : [8] , 1061 : [7] , 1062 : [8] , 1063 : [8] , 1064 : [7] , 1065 : [7] , 1066 : [9] , 1067 : [7] , 1068 : [7] , 1069 : [7] , 1070 : [7] , 1071 : [7] , 1072 : [7] , 1073 : [7] , 1074 : [7] , 1075 : [9] , 1076 : [7] , 1077 : [7] , 1078 : [7] , 1079 : [7] , 1080 : [7] , 1081 : [7] , 1082 : [7] , 1083 : [7] , 1084 : [7] , 1085 : [7] , 1086 : [7] , 1087 : [7] , 1088 : [7] , 1089 : [7] , 1090 : [7] , 1091 : [7] , 1092 : [7] , 1093 : [7] , 1094 : [9] , 1095 : [7] , 1096 : [7] , 1097 : [7] , 1098 : [7] , 1099 : [7] , 1100 : [7] , 1101 : [7] , 1102 : [7] , 1103 : [7] , 1104 : [7] , 1105 : [7] , 1106 : [9] , 1107 : [7] , 1108 : [7] , 1109 : [7] , 1110 : [7] , 1111 : [7] , 1112 : [7] , 1113 : [8] , 1114 : [5] , 1115 : [5] , 1116 : [4] , 1117 : [6] , 1118 : [4] , 1119 : [8] , 1120 : [8] , 1121 : [8] , 1122 : [6] , 1123 : [6] , 1124 : [6] , 1125 : [6] , 1126 : [7] , 1127 : [8] , 1128 : [6] , 1129 : [6] , 1130 : [6] , 1131 : [8] , 1132 : [8] , 1133 : [7] , 1134 : [7] , 1135 : [7] , 1136 : [7] , 1137 : [7] , 1138 : [7] , 1139 : [7] , 1140 : [7] , 1141 : [7] , 1142 : [7] , 1143 : [7] , 1144 : [7] , 1145 : [7] , 1146 : [6] , 1147 : [7] , 1148 : [6] , 1149 : [7] , 1150 : [9] , 1151 : [7] , 1152 : [7] , 1153 : [7] , 1154 : [7] , 1155 : [5] , 1156 : [9] , 1157 : [9] , 1158 : [9] , 1159 : [9] , 1160 : [9] , 1161 : [7] , 1162 : [9] , 1163 : [8] , 1164 : [8] , 1165 : [8] , 1166 : [8] , 1167 : [8] , 1168 : [8] , 1169 : [8] , 1170 : [8] , 1171 : [5] , 1172 : [7] , 1173 : [5] , 1174 : [5] , 1175 : [8] , 1176 : [8] , 1177 : [7] , 1178 : [7] , 1179 : [7] , 1180 : [8] , 1181 : [8] , 1182 : [8] , 1183 : [8] , 1184 : [8] , 1185 : [8] , 1186 : [8] , 1187 : [8] , 1188 : [8] , 1189 : [8] , 1190 : [8] , 1191 : [8] , 1192 : [8] , 1193 : [8] , 1194 : [8] , 1195 : [8] , 1196 : [8] , 1197 : [8] , 1198 : [8] , 1199 : [8] , 1200 : [8] , 1201 : [8] , 1202 : [8] , 1203 : [8] , 1204 : [8] , 1205 : [8] , 1206 : [8] , 1207 : [8] , 1208 : [8] , 1209 : [8] , 1210 : [8] , 1211 : [8] , 1212 : [8] , 1213 : [2] , 1214 : [2] , 1215 : [2] , 1216 : [7] , 1217 : [2] , 1218 : [2] , 1219 : [8] , 1220 : [2] , 1221 : [2] , 1222 : [2] , 1223 : [2] , 1224 : [2] , 1225 : [8] , 1226 : [2] , 1227 : [8] , 1228 : [8] , 1229 : [5] , 1230 : [8] , 1231 : [2] , 1232 : [2] , 1233 : [2] , 1234 : [2] , 1235 : [2] , 1236 : [2] , 1237 : [2] , 1238 : [2] , 1239 : [2] , 1240 : [2] , 1241 : [8] , 1242 : [8] , 1243 : [5] , 1244 : [5] , 1245 : [5] , 1246 : [5] , 1247 : [5] , 1248 : [5] , 1249 : [5] , 1250 : [5] , 1251 : [5] , 1252 : [8] , 1253 : [5] , 1254 : [5] , 1255 : [5] , 1256 : [5] , 1257 : [5] , 1258 : [5] , 1259 : [5] , 1260 : [8] , 1261 : [8] , 1262 : [5] , 1263 : [8] , 1264 : [8] , 1265 : [5] , 1266 : [5] , 1267 : [5] , 1268 : [5] , 1269 : [5] , 1270 : [2] , 1271 : [5] , 1272 : [5] , 1273 : [5] , 1274 : [8] , 1275 : [5] , 1276 : [5] , 1277 : [5] , 1278 : [5] , 1279 : [5] , 1280 : [5] , 1281 : [5] , 1282 : [5] , 1283 : [5] , 1284 : [5] , 1285 : [8] , 1286 : [5] , 1287 : [5] , 1288 : [5] , 1289 : [6] , 1290 : [5] , 1291 : [5] , 1292 : [5] , 1293 : [5] , 1294 : [5] , 1295 : [5] , 1296 : [8] , 1297 : [5] , 1298 : [5] , 1299 : [5] , 1300 : [5] , 1301 : [5] , 1302 : [5] , 1303 : [5] , 1304 : [5] , 1305 : [8] , 1306 : [8] , 1307 : [7] , 1308 : [8] , 1309 : [8] , 1310 : [8] , 1311 : [8] , 1312 : [8] , 1313 : [8] , 1314 : [8] , 1315 : [8] , 1316 : [2] , 1317 : [2] , 1318 : [2] , 1319 : [8] , 1320 : [2] , 1321 : [2] , 1322 : [2] , 1323 : [7] , 1324 : [8] , 1325 : [8] , 1326 : [8] , 1327 : [8] , 1328 : [8] , 1329 : [8] , 1330 : [8] , 1331 : [8] , 1332 : [8] , 1333 : [4] , 1334 : [8] , 1335 : [8] , 1336 : [8] , 1337 : [8] , 1338 : [8] , 1339 : [8] , 1340 : [8] , 1341 : [8] , 1342 : [8] , 1343 : [6] , 1344 : [9] , 1345 : [9] , 1346 : [9] , 1347 : [9] , 1348 : [9] , 1349 : [9] , 1350 : [9] , 1351 : [9] , 1352 : [9] , 1353 : [9] , 1354 : [9] , 1355 : [9] , 1356 : [9] , 1357 : [9] , 1358 : [9] , 1359 : [9] , 1360 : [9] , 1361 : [6] , 1362 : [6] , 1363 : [6] , 1364 : [9] , 1365 : [9] , 1366 : [9] , 1367 : [9] , 1368 : [9] , 1369 : [9] , 1370 : [9] , 1371 : [9] , 1372 : [9] , 1373 : [9] , 1374 : [9] , 1375 : [9] , 1376 : [9] , 1377 : [9] , 1378 : [9] , 1379 : [9] , 1380 : [9] , 1381 : [9] , 1382 : [9] , 1383 : [9] , 1384 : [9] , 1385 : [6] , 1386 : [8] , 1387 : [9] , 1388 : [6] , 1389 : [8] , 1390 : [6] , 1391 : [9] , 1392 : [9] , 1393 : [9] , 1394 : [9] , 1395 : [9] , 1396 : [9] , 1397 : [9] , 1398 : [9] , 1399 : [6] , 1400 : [9] , 1401 : [9] , 1402 : [9] , 1403 : [4] , 1404 : [9] , 1405 : [9] , 1406 : [9] , 1407 : [9] , 1408 : [4] , 1409 : [9] , 1410 : [9] , 1411 : [9] , 1412 : [5] , 1413 : [9] , 1414 : [6] , 1415 : [9] , 1416 : [9] , 1417 : [9] , 1418 : [9] , 1419 : [9] , 1420 : [9] , 1421 : [9] , 1422 : [9] , 1423 : [9] , 1424 : [9] , 1425 : [9] , 1426 : [9] , 1427 : [6] , 1428 : [9] , 1429 : [9] , 1430 : [9] , 1431 : [6] , 1432 : [9] , 1433 : [9] , 1434 : [9] , 1435 : [9] , 1436 : [9] , 1437 : [0] , 1438 : [9] , 1439 : [9] , 1440 : [4] , 1441 : [9] , 1442 : [9] , 1443 : [9] , 1444 : [9] , 1445 : [9] , 1446 : [9] , 1447 : [9] , 1448 : [9] , 1449 : [9] , 1450 : [9] , 1451 : [9] , 1452 : [9] , 1453 : [9] , 1454 : [9] , 1455 : [9] , 1456 : [0] , 1457 : [9] , 1458 : [9] , 1459 : [6] , 1460 : [9] , 1461 : [9] , 1462 : [9] , 1463 : [9] , 1464 : [9] , 1465 : [9] , 1466 : [9] , 1467 : [9] , 1468 : [9] , 1469 : [9] , 1470 : [4] , 1471 : [9] , 1472 : [9] , 1473 : [9] , 1474 : [9] , 1475 : [9] , 1476 : [9] , 1477 : [9] , 1478 : [9] , 1479 : [9] , 1480 : [9] , 1481 : [9] , 1482 : [9] , 1483 : [9] , 1484 : [9] , 1485 : [9] , 1486 : [9] , 1487 : [9] , 1488 : [9] , 1489 : [9] , 1490 : [9] , 1491 : [6] , 1492 : [9] , 1493 : [6] , 1494 : [6] , 1495 : [6] , 1496 : [9] , 1497 : [9] , 1498 : [9] , 1499 : [9] , 1500 : [9] , 1501 : [9] , 1502 : [9] , 1503 : [9] , 1504 : [9] , 1505 : [9] , 1506 : [9] , 1507 : [9] , 1508 : [9] , 1509 : [9] , 1510 : [9] , 1511 : [9] , 1512 : [9] , 1513 : [9] , 1514 : [9] , 1515 : [9] , 1516 : [9] , 1517 : [9] , 1518 : [9] , 1519 : [9] , 1520 : [9] , 1521 : [9] , 1522 : [6] , 1523 : [6] , 1524 : [9] , 1525 : [9] , 1526 : [4] , 1527 : [6] , 1528 : [4] , 1529 : [0] , 1530 : [9] , 1531 : [9] , 1532 : [0] , 1533 : [9] , 1534 : [9] , 1535 : [9] , 1536 : [9] , 1537 : [9] , 1538 : [9] , 1539 : [9] , 1540 : [9] , 1541 : [9] , "
     ]
    }
   ],
   "source": [
    "num = 0\n",
    "# 5~9 class는 back ground로 인식한다\n",
    "for i in range(len(testList)):\n",
    "    print(str(num), end = \" : \")\n",
    "    print(model.predict_classes(x_test[i:i+1, :], verbose = 0), end = \" , \")\n",
    "    if(i==31 or i == 62 or i == 93 or i == 124 or i == 155 or i == 186 or i == 217 or i == 248 or i == 279 or i == 310):\n",
    "        print(\"\\n===========================================================================\")\n",
    "        print(\"\\n\")\n",
    "    num += 1"
   ]
  },
  {
   "cell_type": "code",
   "execution_count": null,
   "metadata": {},
   "outputs": [],
   "source": []
  }
 ],
 "metadata": {
  "kernelspec": {
   "display_name": "Python 3",
   "language": "python",
   "name": "python3"
  },
  "language_info": {
   "codemirror_mode": {
    "name": "ipython",
    "version": 3
   },
   "file_extension": ".py",
   "mimetype": "text/x-python",
   "name": "python",
   "nbconvert_exporter": "python",
   "pygments_lexer": "ipython3",
   "version": "3.7.3"
  }
 },
 "nbformat": 4,
 "nbformat_minor": 2
}
