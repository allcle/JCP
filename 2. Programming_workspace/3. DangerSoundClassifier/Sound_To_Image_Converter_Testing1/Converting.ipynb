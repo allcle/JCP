{
 "cells": [
  {
   "cell_type": "code",
   "execution_count": 1,
   "metadata": {
    "collapsed": true
   },
   "outputs": [],
   "source": [
    "import os\n",
    "import getpass\n",
    "import scipy.io as sio\n",
    "import scipy.io.wavfile\n",
    "import matplotlib.pyplot as plt\n",
    "from matplotlib.pyplot import specgram\n",
    "import numpy as np\n",
    "import numpy.fft as fft\n",
    "import scipy\n",
    "import pylab\n",
    "import glob\n",
    "import time"
   ]
  },
  {
   "cell_type": "code",
   "execution_count": 2,
   "metadata": {
    "collapsed": true
   },
   "outputs": [],
   "source": [
    "# case1. 스팩트럼 모양\n",
    "def Specgram(fileName, number):\n",
    "    samplerate, sound_data = sio.wavfile.read(fileName + str(number) + \".wav\")\n",
    "    plt.specgram(sound_data, Fs=samplerate)\n",
    "    plt.axis([0.25, 3, 0, 4000])\n",
    "    #plt.show()\n",
    "    plt.savefig(fileName + str(number) + '_Specgram.jpg')"
   ]
  },
  {
   "cell_type": "code",
   "execution_count": 11,
   "metadata": {
    "collapsed": true
   },
   "outputs": [],
   "source": [
    "# case2. 일반적인 주파수 모양. 이걸 발전시키는게 가장 좋을 듯\n",
    "def AmplitudeTime(fileName, number):\n",
    "    samplerate, sound_data = sio.wavfile.read(fileName + str(number) + \".wav\") # 받아오는 데이터에 대한 정보. 샘플링된 음압값을 받아온다.\n",
    "    print(\"Samplerate = \", samplerate) # 음압값을 샘플링하는 뎁스 값을 의미한다. 시간에 따라 몇 번 셈플링하는가.\n",
    "    print(\"sound_data type = \", sound_data.dtype) # dtype는 그에 대한 음압값을 어느 정밀도로 샘플링하는가.\n",
    "    print(\"샘플 갯수와 오디오 채널수 = \", sound_data.shape) # shape함수를 통해 해당 파일의 샘플링 갯수와 채널 수를 확인\n",
    "    print(\"오디오 전체 재생시간 = \", sound_data.shape[0]/samplerate) # 오디오 전체 재생 시간. 샘플링된 갯수\n",
    "\n",
    "    sound_data = sound_data/(2.**15) # 그래프에 표시하기 위해 음압값을 -1에서 1로 재매핑\n",
    "    splitLength = (int(sound_data.shape[0]/samplerate))*5000\n",
    "\n",
    "    for countTime in range(int(int(sound_data.shape[0] / samplerate) / 5) + 1):\n",
    "        tempSoundData = sound_data[countTime * splitLength: (countTime + 1) * splitLength]\n",
    "        timeArray = pylab.arange(0, tempSoundData.shape[0], 1)  # 그래프 x축에 할당할 시간값 배열을 만든다.\n",
    "        timeArray = timeArray / samplerate\n",
    "        timeArray = timeArray * 1000  # 단위를 밀리세컨드로 변환 (현재는 1초 간격)\n",
    "        pylab.plot(timeArray, tempSoundData, color='#000000')\n",
    "        pylab.ylabel('Amplitude')\n",
    "        pylab.xlabel('Time(ms)')\n",
    "        #pylab.show()\n",
    "        pylab.savefig(fileName + str(number) + '[' + str(countTime) + ']_AT.png')"
   ]
  },
  {
   "cell_type": "code",
   "execution_count": 12,
   "metadata": {
    "collapsed": true
   },
   "outputs": [],
   "source": [
    "# case3. fft 푸리에 변환 그래프\n",
    "def FrequencePower(fileName, number):\n",
    "    samplerate, sound_data = sio.wavfile.read(fileName + str(number) + \".wav\")\n",
    "    n = len(sound_data)\n",
    "    p = fft.fft(sound_data)\n",
    "    nUniquePts = int(np.ceil((n+1)/2.0))\n",
    "    p = p[0:nUniquePts]\n",
    "    p = abs(p)\n",
    "    p = p/float(n)\n",
    "    p = p**2\n",
    "    if n%2 > 0 :\n",
    "        p[1:len(p)] = p[1:len(p) - 1] * 2\n",
    "    else:\n",
    "        p[1:len(p) -1] = p[1:len(p) -1]*2\n",
    "    freqArray = np.arange(0, nUniquePts, 1.0) * (samplerate/n)\n",
    "    pylab.plot(freqArray/1000, 10*np.log10(p), color = 'k')\n",
    "    pylab.axis([0, 4, -60, 20])\n",
    "    pylab.xlabel('Frequency (kHz)')\n",
    "    pylab.ylabel('Power (db)')\n",
    "    #pylab.show()\n",
    "    pylab.savefig(fileName + str(number) + '_FP.png')"
   ]
  },
  {
   "cell_type": "code",
   "execution_count": 13,
   "metadata": {
    "collapsed": true
   },
   "outputs": [],
   "source": [
    "#---main---\n",
    "def mainCode():\n",
    "    fileList = glob.glob(\"*.wav\")\n",
    "    index = input(\"input what you want\")\n",
    "    print(\"----------------------------------\")\n",
    "    if(index == '0'):\n",
    "        Specgram('err', 0)\n",
    "    elif(index == '1'):\n",
    "        AmplitudeTime('err', 0)\n",
    "    elif(index == '2'):\n",
    "        FrequencePower('err', 0)\n",
    "    else:\n",
    "        print(\"finish\")"
   ]
  },
  {
   "cell_type": "code",
   "execution_count": 14,
   "metadata": {},
   "outputs": [
    {
     "name": "stdout",
     "output_type": "stream",
     "text": [
      "----------------------------------\n",
      "0 : Specgram Converter\n",
      "1 : Amplitude & Time Converter\n",
      "2 : Frequence & Power Converter\n",
      "----------------------------------\n",
      "input what you want1\n",
      "----------------------------------\n"
     ]
    },
    {
     "ename": "ValueError",
     "evalue": "File format b'\\x1aE\\xdf\\xa3'... not understood.",
     "output_type": "error",
     "traceback": [
      "\u001b[1;31m---------------------------------------------------------------------------\u001b[0m",
      "\u001b[1;31mValueError\u001b[0m                                Traceback (most recent call last)",
      "\u001b[1;32m<ipython-input-14-2293595de3b6>\u001b[0m in \u001b[0;36m<module>\u001b[1;34m()\u001b[0m\n\u001b[0;32m      5\u001b[0m     \u001b[0mprint\u001b[0m\u001b[1;33m(\u001b[0m\u001b[1;34m\"2 : Frequence & Power Converter\"\u001b[0m\u001b[1;33m)\u001b[0m\u001b[1;33m\u001b[0m\u001b[0m\n\u001b[0;32m      6\u001b[0m     \u001b[0mprint\u001b[0m\u001b[1;33m(\u001b[0m\u001b[1;34m\"----------------------------------\"\u001b[0m\u001b[1;33m)\u001b[0m\u001b[1;33m\u001b[0m\u001b[0m\n\u001b[1;32m----> 7\u001b[1;33m     \u001b[0mmainCode\u001b[0m\u001b[1;33m(\u001b[0m\u001b[1;33m)\u001b[0m\u001b[1;33m\u001b[0m\u001b[0m\n\u001b[0m\u001b[0;32m      8\u001b[0m \u001b[1;33m\u001b[0m\u001b[0m\n\u001b[0;32m      9\u001b[0m \u001b[1;31m#pylab.savefig('경찰차_AT2.png')\u001b[0m\u001b[1;33m\u001b[0m\u001b[1;33m\u001b[0m\u001b[0m\n",
      "\u001b[1;32m<ipython-input-13-3a06bcc01dab>\u001b[0m in \u001b[0;36mmainCode\u001b[1;34m()\u001b[0m\n\u001b[0;32m      7\u001b[0m         \u001b[0mSpecgram\u001b[0m\u001b[1;33m(\u001b[0m\u001b[1;34m'err'\u001b[0m\u001b[1;33m,\u001b[0m \u001b[1;36m0\u001b[0m\u001b[1;33m)\u001b[0m\u001b[1;33m\u001b[0m\u001b[0m\n\u001b[0;32m      8\u001b[0m     \u001b[1;32melif\u001b[0m\u001b[1;33m(\u001b[0m\u001b[0mindex\u001b[0m \u001b[1;33m==\u001b[0m \u001b[1;34m'1'\u001b[0m\u001b[1;33m)\u001b[0m\u001b[1;33m:\u001b[0m\u001b[1;33m\u001b[0m\u001b[0m\n\u001b[1;32m----> 9\u001b[1;33m         \u001b[0mAmplitudeTime\u001b[0m\u001b[1;33m(\u001b[0m\u001b[1;34m'err'\u001b[0m\u001b[1;33m,\u001b[0m \u001b[1;36m0\u001b[0m\u001b[1;33m)\u001b[0m\u001b[1;33m\u001b[0m\u001b[0m\n\u001b[0m\u001b[0;32m     10\u001b[0m     \u001b[1;32melif\u001b[0m\u001b[1;33m(\u001b[0m\u001b[0mindex\u001b[0m \u001b[1;33m==\u001b[0m \u001b[1;34m'2'\u001b[0m\u001b[1;33m)\u001b[0m\u001b[1;33m:\u001b[0m\u001b[1;33m\u001b[0m\u001b[0m\n\u001b[0;32m     11\u001b[0m         \u001b[0mFrequencePower\u001b[0m\u001b[1;33m(\u001b[0m\u001b[1;34m'err'\u001b[0m\u001b[1;33m,\u001b[0m \u001b[1;36m0\u001b[0m\u001b[1;33m)\u001b[0m\u001b[1;33m\u001b[0m\u001b[0m\n",
      "\u001b[1;32m<ipython-input-11-b13c1eea2d25>\u001b[0m in \u001b[0;36mAmplitudeTime\u001b[1;34m(fileName, number)\u001b[0m\n\u001b[0;32m      1\u001b[0m \u001b[1;31m# case2. 일반적인 주파수 모양. 이걸 발전시키는게 가장 좋을 듯\u001b[0m\u001b[1;33m\u001b[0m\u001b[1;33m\u001b[0m\u001b[0m\n\u001b[0;32m      2\u001b[0m \u001b[1;32mdef\u001b[0m \u001b[0mAmplitudeTime\u001b[0m\u001b[1;33m(\u001b[0m\u001b[0mfileName\u001b[0m\u001b[1;33m,\u001b[0m \u001b[0mnumber\u001b[0m\u001b[1;33m)\u001b[0m\u001b[1;33m:\u001b[0m\u001b[1;33m\u001b[0m\u001b[0m\n\u001b[1;32m----> 3\u001b[1;33m     \u001b[0msamplerate\u001b[0m\u001b[1;33m,\u001b[0m \u001b[0msound_data\u001b[0m \u001b[1;33m=\u001b[0m \u001b[0msio\u001b[0m\u001b[1;33m.\u001b[0m\u001b[0mwavfile\u001b[0m\u001b[1;33m.\u001b[0m\u001b[0mread\u001b[0m\u001b[1;33m(\u001b[0m\u001b[0mfileName\u001b[0m \u001b[1;33m+\u001b[0m \u001b[0mstr\u001b[0m\u001b[1;33m(\u001b[0m\u001b[0mnumber\u001b[0m\u001b[1;33m)\u001b[0m \u001b[1;33m+\u001b[0m \u001b[1;34m\".wav\"\u001b[0m\u001b[1;33m)\u001b[0m \u001b[1;31m# 받아오는 데이터에 대한 정보. 샘플링된 음압값을 받아온다.\u001b[0m\u001b[1;33m\u001b[0m\u001b[0m\n\u001b[0m\u001b[0;32m      4\u001b[0m     \u001b[0mprint\u001b[0m\u001b[1;33m(\u001b[0m\u001b[1;34m\"Samplerate = \"\u001b[0m\u001b[1;33m,\u001b[0m \u001b[0msamplerate\u001b[0m\u001b[1;33m)\u001b[0m \u001b[1;31m# 음압값을 샘플링하는 뎁스 값을 의미한다. 시간에 따라 몇 번 셈플링하는가.\u001b[0m\u001b[1;33m\u001b[0m\u001b[0m\n\u001b[0;32m      5\u001b[0m     \u001b[0mprint\u001b[0m\u001b[1;33m(\u001b[0m\u001b[1;34m\"sound_data type = \"\u001b[0m\u001b[1;33m,\u001b[0m \u001b[0msound_data\u001b[0m\u001b[1;33m.\u001b[0m\u001b[0mdtype\u001b[0m\u001b[1;33m)\u001b[0m \u001b[1;31m# dtype는 그에 대한 음압값을 어느 정밀도로 샘플링하는가.\u001b[0m\u001b[1;33m\u001b[0m\u001b[0m\n",
      "\u001b[1;32mC:\\ProgramData\\Anaconda3\\lib\\site-packages\\scipy\\io\\wavfile.py\u001b[0m in \u001b[0;36mread\u001b[1;34m(filename, mmap)\u001b[0m\n\u001b[0;32m    234\u001b[0m \u001b[1;33m\u001b[0m\u001b[0m\n\u001b[0;32m    235\u001b[0m     \u001b[1;32mtry\u001b[0m\u001b[1;33m:\u001b[0m\u001b[1;33m\u001b[0m\u001b[0m\n\u001b[1;32m--> 236\u001b[1;33m         \u001b[0mfile_size\u001b[0m\u001b[1;33m,\u001b[0m \u001b[0mis_big_endian\u001b[0m \u001b[1;33m=\u001b[0m \u001b[0m_read_riff_chunk\u001b[0m\u001b[1;33m(\u001b[0m\u001b[0mfid\u001b[0m\u001b[1;33m)\u001b[0m\u001b[1;33m\u001b[0m\u001b[0m\n\u001b[0m\u001b[0;32m    237\u001b[0m         \u001b[0mfmt_chunk_received\u001b[0m \u001b[1;33m=\u001b[0m \u001b[1;32mFalse\u001b[0m\u001b[1;33m\u001b[0m\u001b[0m\n\u001b[0;32m    238\u001b[0m         \u001b[0mchannels\u001b[0m \u001b[1;33m=\u001b[0m \u001b[1;36m1\u001b[0m\u001b[1;33m\u001b[0m\u001b[0m\n",
      "\u001b[1;32mC:\\ProgramData\\Anaconda3\\lib\\site-packages\\scipy\\io\\wavfile.py\u001b[0m in \u001b[0;36m_read_riff_chunk\u001b[1;34m(fid)\u001b[0m\n\u001b[0;32m    166\u001b[0m         \u001b[1;31m# There are also .wav files with \"FFIR\" or \"XFIR\" signatures?\u001b[0m\u001b[1;33m\u001b[0m\u001b[1;33m\u001b[0m\u001b[0m\n\u001b[0;32m    167\u001b[0m         raise ValueError(\"File format {}... not \"\n\u001b[1;32m--> 168\u001b[1;33m                          \"understood.\".format(repr(str1)))\n\u001b[0m\u001b[0;32m    169\u001b[0m \u001b[1;33m\u001b[0m\u001b[0m\n\u001b[0;32m    170\u001b[0m     \u001b[1;31m# Size of entire file\u001b[0m\u001b[1;33m\u001b[0m\u001b[1;33m\u001b[0m\u001b[0m\n",
      "\u001b[1;31mValueError\u001b[0m: File format b'\\x1aE\\xdf\\xa3'... not understood."
     ]
    }
   ],
   "source": [
    "if __name__ == '__main__':\n",
    "    print(\"----------------------------------\")\n",
    "    print(\"0 : Specgram Converter\")\n",
    "    print(\"1 : Amplitude & Time Converter\")\n",
    "    print(\"2 : Frequence & Power Converter\")\n",
    "    print(\"----------------------------------\")\n",
    "    mainCode()\n",
    "\n",
    "#pylab.savefig('경찰차_AT2.png')"
   ]
  },
  {
   "cell_type": "code",
   "execution_count": null,
   "metadata": {
    "collapsed": true
   },
   "outputs": [],
   "source": [
    "#----------reference url-------------------------------------------------------------\n",
    "# ★ main ref url : https://blog.naver.com/kimsung4752/221063885241\n",
    "# mp3 to wav convert url : https://convertio.co/kr/\n",
    "# 'yes' 음성 데이터를 전처리 하는 블로그 : https://wdprogrammer.tistory.com/43\n",
    "# 음성 요소에 대한 설명 블로그 : https://blog.naver.com/kimsung4752/221321201622\n",
    "# 자료 많아보이는 깃허브! https://github.com/kuj0210/Smart-mobile/issues/43\n",
    "\n",
    "# AT converter : https://towardsdatascience.com/urban-sound-classification-part-1-99137c6335f9\n",
    "# Specgram ref url : https://blog.naver.com/slykid/221453948177\n",
    "# Specgram : https://robot7887.blog.me/221289864698\n",
    "# Specgram : https://blog.naver.com/bdh0727/221266874029\n",
    "# FFT 변환에 대한 설명 블로그 : #https://blog.naver.com/swkim4610/221306083201"
   ]
  }
 ],
 "metadata": {
  "kernelspec": {
   "display_name": "Python 3",
   "language": "python",
   "name": "python3"
  },
  "language_info": {
   "codemirror_mode": {
    "name": "ipython",
    "version": 3
   },
   "file_extension": ".py",
   "mimetype": "text/x-python",
   "name": "python",
   "nbconvert_exporter": "python",
   "pygments_lexer": "ipython3",
   "version": "3.6.1"
  }
 },
 "nbformat": 4,
 "nbformat_minor": 2
}
