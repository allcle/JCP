{
 "cells": [
  {
   "cell_type": "markdown",
   "metadata": {},
   "source": [
    "#### 1. data set preprocessing\n",
    "* 원본 데이터셋은 class가 뒤죽박죽 섞여 있었음.\n",
    "* 이를 class별로 정리하기 위한 전처리\n",
    "    * air_conditioner, car_horn, children_playing, dog_bark, drilling\n",
    "    * engine_idllling, gun_shot, jack_hammer, siren, street_music"
   ]
  },
  {
   "cell_type": "code",
   "execution_count": null,
   "metadata": {},
   "outputs": [],
   "source": [
    "import glob\n",
    "import shutil\n",
    "\n",
    "arr = [0, 0, 0, 0, 0, 0, 0, 0, 0, 0]\n",
    "Name = [\"air_conditioner\", \"car_horn\", \"children_playing\", \"dog_bark\",\n",
    "       \"drilling\", \"engine_idlling\", \"gun_shot\", \"jackhammer\", \"siren\", \"street_music\"]\n",
    "\n",
    "def name(num):\n",
    "    arr[num] = arr[num] + 1\n",
    "    return Name[num] + str(arr[num])"
   ]
  },
  {
   "cell_type": "code",
   "execution_count": null,
   "metadata": {},
   "outputs": [],
   "source": [
    "for i in range(1, 11):\n",
    "    folderName = \"fold\"+str(i)\n",
    "    fileList = glob.glob(\"1_origindata/\"+folderName+\"/*.wav\")\n",
    "    for j in range(len(fileList)):\n",
    "        tempSplit = fileList[j].split(\"-\")\n",
    "        originfileName = fileList[j]\n",
    "        newfileName = \"2_data/fold\"+str(tempSplit[1])+\"/\"+name(int(tempSplit[1]))+\".wav\"\n",
    "        shutil.copy(originfileName, newfileName)\n",
    "        print(\"Success copy\", end = \" : \")\n",
    "        print(originfileName + \" -> \" + newfileName)\n",
    "    print(\"/// \" + folderName + \" finish..\")\n",
    "print(\"all finish...\")"
   ]
  },
  {
   "cell_type": "markdown",
   "metadata": {},
   "source": [
    "---"
   ]
  },
  {
   "cell_type": "markdown",
   "metadata": {},
   "source": [
    "### 2. convert wav to jpg\n",
    "* librosa 라이브러리르 이용하여 wav파일을 jpg파일로 변환\n",
    "\n",
    "* 시각화 결과 0, 2, 5, 7, 9번 class는 무의미하고 판별이 어려울 것으로 판단\n",
    "* 1, 3, 4, 6, 8번 class로 classifier 개발 시작. + 위의 5개 class는 배경 백색 소음 역할 수행\n",
    "\n",
    "* 즉, 디렉토리는 0 to 9가 아닌, 0 to 4로 재 정렬된다.\n",
    "* fold0 : car_horn\n",
    "* fold1 : dog_bark\n",
    "* fold2 : drilling\n",
    "* fold3 : gun_shot\n",
    "* fold4 : siren\n",
    "\n",
    "* 단, 학습 완료 후, 프로젝트 진행이 안정화되었을 때, 10개 class판별을 위한 upgrade 진행을 할 수 있으며, 이를 위한 origin data는 보관한다."
   ]
  },
  {
   "cell_type": "code",
   "execution_count": null,
   "metadata": {},
   "outputs": [],
   "source": [
    "import librosa\n",
    "import librosa.display\n",
    "import IPython.display\n",
    "import numpy as np\n",
    "import matplotlib.pyplot as plt\n",
    "import matplotlib as mpl\n",
    "import matplotlib.font_manager as fm\n",
    "import glob\n",
    "%matplotlib inline"
   ]
  },
  {
   "cell_type": "code",
   "execution_count": null,
   "metadata": {},
   "outputs": [],
   "source": [
    "for i in range(10):\n",
    "    folderName = \"fold\" + str(i)\n",
    "    print(\"======\"+folderName+\"======\")\n",
    "    fileList = glob.glob(\"2_data/\"+folderName+\"/*.wav\")\n",
    "    for j in range(len(fileList)):\n",
    "        tempSplit = fileList[j].split(\".\")\n",
    "        tempSplit2 = tempSplit[0].split(\"\\\\\")\n",
    "        fileName = tempSplit2[-1]\n",
    "        \n",
    "        plt.figure()\n",
    "        y, sr = librosa.load(fileList[j])\n",
    "        S = np.abs(librosa.stft(y))\n",
    "        librosa.display.specshow(librosa.power_to_db(S**2, ref = np.max),\n",
    "                                 sr = sr, y_axis = 'log', x_axis = 'time')\n",
    "        #plt.colorbar(format = '%+2.0f dB')\n",
    "        plt.title('Log-Power spectrogram')\n",
    "        #plt.show()\n",
    "        print(\"Save file Complete : 3_image/\"+folderName+\"/\"+fileName+\".jpg\")\n",
    "        plt.savefig(\"3_image/\"+folderName+\"/\"+fileName+\".jpg\")\n",
    "        plt.close()"
   ]
  },
  {
   "cell_type": "code",
   "execution_count": null,
   "metadata": {},
   "outputs": [],
   "source": [
    "plt.figure()\n",
    "y, sr = librosa.load(\"파일경로\")\n",
    "S = np.abs(librosa.stft(y))\n",
    "librosa.display.specshow(librosa.power_to_db(S**2, ref = np.max),\n",
    "                         sr = sr, y_axis = 'log', x_axis = 'time')\n",
    "plt.show()\n",
    "plt.close()"
   ]
  },
  {
   "cell_type": "code",
   "execution_count": null,
   "metadata": {},
   "outputs": [],
   "source": [
    "# 시각화 origin code backup\n",
    "\"\"\"\n",
    "plt.figure()\n",
    "y, sr = librosa.load(fileList[0])\n",
    "S = np.abs(librosa.stft(y))\n",
    "librosa.display.specshow(librosa.power_to_db(S**2, ref = np.max),\n",
    "                         sr = sr, y_axis = 'log', x_axis = 'time')\n",
    "plt.colorbar(format = '%+2.0f dB')\n",
    "plt.title('Log-Power spectrogram')\n",
    "plt.show()\n",
    "\"\"\""
   ]
  },
  {
   "cell_type": "markdown",
   "metadata": {},
   "source": [
    "---"
   ]
  },
  {
   "cell_type": "markdown",
   "metadata": {},
   "source": [
    "### 3. jpg 사진 자르기\n",
    "* 필요한 부분만 자르기\n",
    "* 여기서 fold2는 배경 class로 선정, 즉 fold5에 다시 저장한다\n",
    "\n",
    "* 초기에는 5개 폴더를 모두 배경 잡음으로 선택하였다. 이때, 모든 데이터를 저장하면 5000장으로 다른 데이터셋에 비해 과하게 많은 양을 차지하므로 1/5로 축소할 필요가 있었으나, 지금은 필요없다"
   ]
  },
  {
   "cell_type": "code",
   "execution_count": null,
   "metadata": {},
   "outputs": [],
   "source": [
    "from PIL import Image\n",
    "from tqdm import tqdm_notebook\n",
    "import glob\n",
    "\"\"\"\n",
    "img = Image.open(\"test.jpg\")\n",
    "area = (54, 32, 385, 253)\n",
    "cropped_img = img.crop(area)\n",
    "cropped_img.save(\"crop.jpg\")\n",
    "\"\"\""
   ]
  },
  {
   "cell_type": "code",
   "execution_count": null,
   "metadata": {},
   "outputs": [],
   "source": [
    "for i in tqdm_notebook(range(6)):\n",
    "    folderName = \"fold\" + str(i)\n",
    "    print(\"======\"+folderName+\"======\")\n",
    "    fileList = glob.glob(\"3_image/\"+folderName+\"/*.jpg\")\n",
    "    for j in range(len(fileList)):\n",
    "        fileName = fileList[j].split(\"\\\\\")[1]\n",
    "        img = Image.open(fileList[j])\n",
    "        area = (54, 32, 385, 253)\n",
    "        cropped_img = img.crop(area)\n",
    "        cropped_img.save(\"4_imageData/\"+folderName+\"/\"+fileName)\n",
    "        print(\"Image Split complete : \" + fileName)"
   ]
  },
  {
   "cell_type": "markdown",
   "metadata": {},
   "source": [
    "---"
   ]
  },
  {
   "cell_type": "markdown",
   "metadata": {},
   "source": [
    "### 4. split dataset\n",
    "* 통합 database를 train, validation, test로 분할\n",
    "* 전체 데이터 10이라 할때, train(6), val(2), test(2)"
   ]
  },
  {
   "cell_type": "code",
   "execution_count": null,
   "metadata": {},
   "outputs": [],
   "source": [
    "import glob\n",
    "import shutil\n",
    "\n",
    "for i in range(6):\n",
    "    if(i!=5):\n",
    "        continue\n",
    "    folderName = \"fold\" + str(i)\n",
    "    fileList = glob.glob(\"4_imageData/\"+folderName+\"/*.jpg\")\n",
    "    trainRange = int(len(fileList)*0.6)\n",
    "    validationRange = int(len(fileList)*0.2)\n",
    "    \n",
    "    print(\"train : 0:\"+str(trainRange))\n",
    "    print(\"validation : \"+str(trainRange+1)+\":\"+str(trainRange+validationRange))\n",
    "    print(\"test : \"+str(trainRange+validationRange+1)+\":\"+str(len(fileList)))\n",
    "    \n",
    "    # train data\n",
    "    for j in range(trainRange+1):\n",
    "        originfileName = fileList[j]\n",
    "        tempSplit = fileList[j].split(\"/\")\n",
    "        fileName = tempSplit[-1]\n",
    "        \n",
    "        newfileName = \"5_dataset/train/\"+fileName\n",
    "        shutil.copy(originfileName, newfileName)\n",
    "        print(\"copy succes : \" + originfileName + \" -> \" + newfileName)\n",
    "\n",
    "    # validation data\n",
    "    for j in range(trainRange+1, trainRange + validationRange + 1):\n",
    "        originfileName = fileList[j]\n",
    "        tempSplit = fileList[j].split(\"/\")\n",
    "        fileName = tempSplit[-1]        \n",
    "        \n",
    "        newfileName = \"5_dataset/val/\"+fileName\n",
    "        shutil.copy(originfileName, newfileName)\n",
    "        print(\"copy succes : \" + originfileName + \" -> \" + newfileName)\n",
    "        \n",
    "    # test data\n",
    "    for j in range(trainRange + validationRange + 1, len(fileList)):\n",
    "        originfileName = fileList[j]\n",
    "        tempSplit = fileList[j].split(\"/\")\n",
    "        fileName = tempSplit[-1]        \n",
    "        \n",
    "        newfileName = \"5_dataset/test/\"+fileName\n",
    "        shutil.copy(originfileName, newfileName)\n",
    "        print(\"copy succes : \" + originfileName + \" -> \" + newfileName)        "
   ]
  },
  {
   "cell_type": "code",
   "execution_count": null,
   "metadata": {},
   "outputs": [],
   "source": [
    "import glob\n",
    "\n",
    "print(\"class 별 data set 개수 측정\")\n",
    "print(\"========== car_horn ==========\")\n",
    "print('train car_horn image count : ' + str(len(glob.glob(\"5_dataset/train/fold0/*jpg\"))))\n",
    "print('validation car_horn image count : ' + str(len(glob.glob(\"5_dataset/val/fold0/*jpg\"))))\n",
    "print('test car_horn image count : ' + str(len(glob.glob(\"5_dataset/test/fold0/*jpg\"))))\n",
    "\n",
    "print(\"========== dog_bark ==========\")\n",
    "print('train dog_bark image count : ' + str(len(glob.glob(\"5_dataset/train/fold1/*jpg\"))))\n",
    "print('validation dog_bark image count : ' + str(len(glob.glob(\"5_dataset/val/fold1/*jpg\"))))\n",
    "print('test dog_bark image count : ' + str(len(glob.glob(\"5_dataset/test/fold1/*jpg\"))))\n",
    "\n",
    "print(\"========== drilling ==========\")\n",
    "print('train drilling image count : ' + str(len(glob.glob(\"5_dataset/train/fold2/*jpg\"))))\n",
    "print('validation drilling image count : ' + str(len(glob.glob(\"5_dataset/val/fold2/*jpg\"))))\n",
    "print('test drilling image count : ' + str(len(glob.glob(\"5_dataset/test/fold2/*jpg\"))))\n",
    "\n",
    "print(\"========== gun_shot ==========\")\n",
    "print('train gun_shot image count : ' + str(len(glob.glob(\"5_dataset/train/fold3/*jpg\"))))\n",
    "print('validation gun_shot image count : ' + str(len(glob.glob(\"5_dataset/val/fold3/*jpg\"))))\n",
    "print('test gun_shot image count : ' + str(len(glob.glob(\"5_dataset/test/fold3/*jpg\"))))\n",
    "\n",
    "print(\"========== siren ==========\")\n",
    "print('train siren image count : ' + str(len(glob.glob(\"5_dataset/train/fold4/*jpg\"))))\n",
    "print('validation siren image count : ' + str(len(glob.glob(\"5_dataset/val/fold4/*jpg\"))))\n",
    "print('test siren image count : ' + str(len(glob.glob(\"5_dataset/test/fold4/*jpg\"))))\n",
    "\n",
    "print(\"========== 배경음 ==========\")\n",
    "print('train background image count : ' + str(len(glob.glob(\"5_dataset/train/fold5/*jpg\"))))\n",
    "print('validation background image count : ' + str(len(glob.glob(\"5_dataset/val/fold5/*jpg\"))))\n",
    "print('test background image count : ' + str(len(glob.glob(\"5_dataset/test/fold5/*jpg\"))))"
   ]
  }
 ],
 "metadata": {
  "kernelspec": {
   "display_name": "Python 3",
   "language": "python",
   "name": "python3"
  },
  "language_info": {
   "codemirror_mode": {
    "name": "ipython",
    "version": 3
   },
   "file_extension": ".py",
   "mimetype": "text/x-python",
   "name": "python",
   "nbconvert_exporter": "python",
   "pygments_lexer": "ipython3",
   "version": "3.7.3"
  }
 },
 "nbformat": 4,
 "nbformat_minor": 2
}
